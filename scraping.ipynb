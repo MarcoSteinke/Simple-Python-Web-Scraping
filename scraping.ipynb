{
 "cells": [
  {
   "cell_type": "markdown",
   "metadata": {},
   "source": [
    "## Imports:\n",
    "\n",
    "* json\n",
    "* requests\n",
    "* pprint"
   ]
  },
  {
   "cell_type": "code",
   "execution_count": 90,
   "metadata": {},
   "outputs": [
    {
     "name": "stdout",
     "output_type": "stream",
     "text": [
      "[{'gender': 'male', 'name': {'title': 'Monsieur', 'first': 'Jens', 'last': 'Roger'}, 'location': {'street': {'number': 4261, 'name': 'Rue Pasteur'}, 'city': 'Les Brenets', 'state': 'Thurgau', 'country': 'Switzerland', 'postcode': 2541, 'coordinates': {'latitude': '-61.0498', 'longitude': '-18.5851'}, 'timezone': {'offset': '-2:00', 'description': 'Mid-Atlantic'}}, 'email': 'jens.roger@example.com', 'login': {'uuid': '7e56f7b9-f4f9-4838-89bc-aaa12329035b', 'username': 'sadpeacock704', 'password': 'marion', 'salt': '7r9MInHs', 'md5': '8a771749dab34e5b92d1438a26d71ebe', 'sha1': 'ccdd44d486fc9510acccc6cfb1ad2579ef162ef5', 'sha256': '5a9de55f3f35c856f0d7920b60d6c46d5f5ce4e174b5956c15605b97f815e3c2'}, 'dob': {'date': '1980-03-29T12:00:59.142Z', 'age': 42}, 'registered': {'date': '2016-01-01T17:06:24.806Z', 'age': 6}, 'phone': '076 150 23 70', 'cell': '076 514 75 03', 'id': {'name': 'AVS', 'value': '756.9926.2007.44'}, 'picture': {'large': 'https://randomuser.me/api/portraits/men/10.jpg', 'medium': 'https://randomuser.me/api/portraits/med/men/10.jpg', 'thumbnail': 'https://randomuser.me/api/portraits/thumb/men/10.jpg'}, 'nat': 'CH'}]\n"
     ]
    }
   ],
   "source": [
    "import json\n",
    "import requests\n",
    "from pprint import pprint\n",
    "\n",
    "# perform a get request on another website\n",
    "response = requests.get(\"https://randomuser.me/api\")\n",
    "# parse the content of the response into json\n",
    "json_ = json.loads(response.content)\n",
    "# retrieve information from the json object\n",
    "print(json_['results'])"
   ]
  },
  {
   "cell_type": "code",
   "execution_count": 91,
   "metadata": {},
   "outputs": [
    {
     "name": "stdout",
     "output_type": "stream",
     "text": [
      "This is a dict\n",
      "{'gender': 'male', 'name': {'title': 'Monsieur', 'first': 'Jens', 'last': 'Roger'}, 'location': {'street': {'number': 4261, 'name': 'Rue Pasteur'}, 'city': 'Les Brenets', 'state': 'Thurgau', 'country': 'Switzerland', 'postcode': 2541, 'coordinates': {'latitude': '-61.0498', 'longitude': '-18.5851'}, 'timezone': {'offset': '-2:00', 'description': 'Mid-Atlantic'}}, 'email': 'jens.roger@example.com', 'login': {'uuid': '7e56f7b9-f4f9-4838-89bc-aaa12329035b', 'username': 'sadpeacock704', 'password': 'marion', 'salt': '7r9MInHs', 'md5': '8a771749dab34e5b92d1438a26d71ebe', 'sha1': 'ccdd44d486fc9510acccc6cfb1ad2579ef162ef5', 'sha256': '5a9de55f3f35c856f0d7920b60d6c46d5f5ce4e174b5956c15605b97f815e3c2'}, 'dob': {'date': '1980-03-29T12:00:59.142Z', 'age': 42}, 'registered': {'date': '2016-01-01T17:06:24.806Z', 'age': 6}, 'phone': '076 150 23 70', 'cell': '076 514 75 03', 'id': {'name': 'AVS', 'value': '756.9926.2007.44'}, 'picture': {'large': 'https://randomuser.me/api/portraits/men/10.jpg', 'medium': 'https://randomuser.me/api/portraits/med/men/10.jpg', 'thumbnail': 'https://randomuser.me/api/portraits/thumb/men/10.jpg'}, 'nat': 'CH'}\n"
     ]
    }
   ],
   "source": [
    "# if the json attributes are nested, try to get a dict and access its fields:\n",
    "print(\"This is a dict\")\n",
    "print(json_['results'][0])"
   ]
  },
  {
   "cell_type": "markdown",
   "metadata": {},
   "source": [
    "## Accessing the entries of the dict:"
   ]
  },
  {
   "cell_type": "code",
   "execution_count": 92,
   "metadata": {},
   "outputs": [
    {
     "name": "stdout",
     "output_type": "stream",
     "text": [
      "This is a dict entry\n",
      "{'title': 'Monsieur', 'first': 'Jens', 'last': 'Roger'}\n",
      "This is the type\n",
      "<class 'dict'>\n"
     ]
    }
   ],
   "source": [
    "print(\"This is a dict entry\")\n",
    "print(json_['results'][0].get('name'))\n",
    "print(\"This is the type\")\n",
    "print(type(json_['results'][0].get('name')))"
   ]
  },
  {
   "cell_type": "markdown",
   "metadata": {},
   "source": [
    "Since the entry of the dict is another dict, we can continue like this."
   ]
  },
  {
   "cell_type": "code",
   "execution_count": 82,
   "metadata": {},
   "outputs": [
    {
     "name": "stdout",
     "output_type": "stream",
     "text": [
      "Annabelle Martin\n"
     ]
    }
   ],
   "source": [
    "name = json_['results'][0].get('name')\n",
    "print(name.get('first'), name.get('last'))"
   ]
  },
  {
   "cell_type": "markdown",
   "metadata": {},
   "source": [
    "The last step is to add parameters to the request"
   ]
  },
  {
   "cell_type": "code",
   "execution_count": 111,
   "metadata": {},
   "outputs": [
    {
     "name": "stdout",
     "output_type": "stream",
     "text": [
      "DE True\n",
      "Henrik Henrik True\n"
     ]
    }
   ],
   "source": [
    "# perform a get request on another website\n",
    "# nat is the nationality, which is set to german \"de\"\n",
    "# seed is the seed for the randomizer, so we get the same user each time\n",
    "response = requests.get(\"https://randomuser.me/api\", params={'nat': 'de',\n",
    "                                                             'seed': '123'})\n",
    "\n",
    "# parse the content of the response into json\n",
    "json_2 = json.loads(response.content)['results'][0]\n",
    "\n",
    "# test nat\n",
    "print(json_2.get('nat'), json_2.get('nat') == \"DE\")\n",
    "\n",
    "# get another user\n",
    "response_2 = requests.get(\"https://randomuser.me/api\", params={'nat': 'de',\n",
    "                                                             'seed': '123'})\n",
    "json_3 = json.loads(response_2.content)['results'][0]\n",
    "\n",
    "# compare their names\n",
    "name1 = json_2.get('name').get('first')\n",
    "name2 = json_3.get('name').get('first')\n",
    "print(name1, name2, name1 == name2)"
   ]
  }
 ],
 "metadata": {
  "kernelspec": {
   "display_name": "Python 3.8.3 32-bit",
   "language": "python",
   "name": "python3"
  },
  "language_info": {
   "codemirror_mode": {
    "name": "ipython",
    "version": 3
   },
   "file_extension": ".py",
   "mimetype": "text/x-python",
   "name": "python",
   "nbconvert_exporter": "python",
   "pygments_lexer": "ipython3",
   "version": "3.8.3"
  },
  "orig_nbformat": 4,
  "vscode": {
   "interpreter": {
    "hash": "bbe9640f49e81eda04b34330051fbc5bae5ad487d9c425e9ac9f0def8d432c72"
   }
  }
 },
 "nbformat": 4,
 "nbformat_minor": 2
}
